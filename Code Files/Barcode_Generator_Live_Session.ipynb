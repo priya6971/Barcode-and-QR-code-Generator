{
  "nbformat": 4,
  "nbformat_minor": 0,
  "metadata": {
    "colab": {
      "provenance": []
    },
    "kernelspec": {
      "name": "python3",
      "display_name": "Python 3"
    },
    "language_info": {
      "name": "python"
    }
  },
  "cells": [
    {
      "cell_type": "markdown",
      "source": [
        "Reference Documentation Link: https://pypi.org/project/python-barcode/"
      ],
      "metadata": {
        "id": "cY7y7YFmnsZq"
      }
    },
    {
      "cell_type": "markdown",
      "source": [
        "**Step 1: Download all the required packages to generate the barcode**"
      ],
      "metadata": {
        "id": "2U5_--_VvDsO"
      }
    },
    {
      "cell_type": "code",
      "execution_count": 1,
      "metadata": {
        "id": "WQjVNNcdbNmr",
        "colab": {
          "base_uri": "https://localhost:8080/"
        },
        "outputId": "bbc9191f-1557-4683-a12f-6a196c962c47"
      },
      "outputs": [
        {
          "output_type": "stream",
          "name": "stdout",
          "text": [
            "Looking in indexes: https://pypi.org/simple, https://us-python.pkg.dev/colab-wheels/public/simple/\n",
            "Collecting python-barcode\n",
            "  Downloading python_barcode-0.14.0-py3-none-any.whl (212 kB)\n",
            "\u001b[K     |████████████████████████████████| 212 kB 35.1 MB/s \n",
            "\u001b[?25hInstalling collected packages: python-barcode\n",
            "Successfully installed python-barcode-0.14.0\n"
          ]
        }
      ],
      "source": [
        "pip install python-barcode"
      ]
    },
    {
      "cell_type": "code",
      "source": [
        "pip install Pillow"
      ],
      "metadata": {
        "colab": {
          "base_uri": "https://localhost:8080/"
        },
        "id": "BS4Qg5wCt7UY",
        "outputId": "00d856cb-8cb0-4a5a-e9c4-fc9345c4d9c5"
      },
      "execution_count": 2,
      "outputs": [
        {
          "output_type": "stream",
          "name": "stdout",
          "text": [
            "Looking in indexes: https://pypi.org/simple, https://us-python.pkg.dev/colab-wheels/public/simple/\n",
            "Requirement already satisfied: Pillow in /usr/local/lib/python3.7/dist-packages (7.1.2)\n"
          ]
        }
      ]
    },
    {
      "cell_type": "markdown",
      "source": [
        "**Step 2: Import all the required libraries**"
      ],
      "metadata": {
        "id": "9xb36h1IxsU0"
      }
    },
    {
      "cell_type": "code",
      "source": [
        "import barcode\n",
        "from barcode import EAN13"
      ],
      "metadata": {
        "id": "hpCkqeG8u6uD"
      },
      "execution_count": 3,
      "outputs": []
    },
    {
      "cell_type": "markdown",
      "source": [
        "**Step 3: Load the data and convert that data into EAN13 and save the image in the format of svg**"
      ],
      "metadata": {
        "id": "Ht1096r9x1Ot"
      }
    },
    {
      "cell_type": "code",
      "source": [
        "data = '123456712989'\n",
        "encodedCode = EAN13(data)\n",
        "encodedCode.save('barcode')"
      ],
      "metadata": {
        "colab": {
          "base_uri": "https://localhost:8080/",
          "height": 36
        },
        "id": "7FL_k3ZJvStL",
        "outputId": "cad72eb3-db3d-4906-eb48-289115acc8a2"
      },
      "execution_count": 4,
      "outputs": [
        {
          "output_type": "execute_result",
          "data": {
            "text/plain": [
              "'barcode.svg'"
            ],
            "application/vnd.google.colaboratory.intrinsic+json": {
              "type": "string"
            }
          },
          "metadata": {},
          "execution_count": 4
        }
      ]
    },
    {
      "cell_type": "code",
      "source": [],
      "metadata": {
        "id": "FZRs-CeUwy4B"
      },
      "execution_count": null,
      "outputs": []
    }
  ]
}