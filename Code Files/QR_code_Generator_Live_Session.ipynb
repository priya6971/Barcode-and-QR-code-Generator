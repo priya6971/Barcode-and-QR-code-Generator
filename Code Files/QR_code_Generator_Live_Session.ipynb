{
  "nbformat": 4,
  "nbformat_minor": 0,
  "metadata": {
    "colab": {
      "provenance": []
    },
    "kernelspec": {
      "name": "python3",
      "display_name": "Python 3"
    },
    "language_info": {
      "name": "python"
    }
  },
  "cells": [
    {
      "cell_type": "markdown",
      "source": [
        "Reference Documentation Link: https://pypi.org/project/qrcode/"
      ],
      "metadata": {
        "id": "lmi0lxdFfyMu"
      }
    },
    {
      "cell_type": "markdown",
      "source": [
        "**Step 1: Install all required packages**"
      ],
      "metadata": {
        "id": "Mw2poN24zz_O"
      }
    },
    {
      "cell_type": "code",
      "execution_count": 1,
      "metadata": {
        "id": "BGeGa9QKcx8Z",
        "colab": {
          "base_uri": "https://localhost:8080/"
        },
        "outputId": "ba8058bd-c886-46dd-e33a-ed6345ae8052"
      },
      "outputs": [
        {
          "output_type": "stream",
          "name": "stdout",
          "text": [
            "Looking in indexes: https://pypi.org/simple, https://us-python.pkg.dev/colab-wheels/public/simple/\n",
            "Collecting qrcode\n",
            "  Downloading qrcode-7.3.1.tar.gz (43 kB)\n",
            "\u001b[K     |████████████████████████████████| 43 kB 1.4 MB/s \n",
            "\u001b[?25hBuilding wheels for collected packages: qrcode\n",
            "  Building wheel for qrcode (setup.py) ... \u001b[?25l\u001b[?25hdone\n",
            "  Created wheel for qrcode: filename=qrcode-7.3.1-py3-none-any.whl size=40402 sha256=23fb9fd3a3670a193f524d395b40fd9a55a8ad47d1b397b8feef462c05fda123\n",
            "  Stored in directory: /root/.cache/pip/wheels/93/d7/39/a4111be2cfb8e679938aa671a37888b6afb1f9e7d748e94492\n",
            "Successfully built qrcode\n",
            "Installing collected packages: qrcode\n",
            "Successfully installed qrcode-7.3.1\n"
          ]
        }
      ],
      "source": [
        "pip install qrcode"
      ]
    },
    {
      "cell_type": "code",
      "source": [
        "pip install Pillow"
      ],
      "metadata": {
        "colab": {
          "base_uri": "https://localhost:8080/"
        },
        "id": "ymzjpp30zJwO",
        "outputId": "7a657fe6-3124-4521-9061-31c48ae1ac9c"
      },
      "execution_count": 2,
      "outputs": [
        {
          "output_type": "stream",
          "name": "stdout",
          "text": [
            "Looking in indexes: https://pypi.org/simple, https://us-python.pkg.dev/colab-wheels/public/simple/\n",
            "Requirement already satisfied: Pillow in /usr/local/lib/python3.7/dist-packages (7.1.2)\n"
          ]
        }
      ]
    },
    {
      "cell_type": "markdown",
      "source": [
        "**Step 2: Load the data for the QRcode and save the image of QRcode in the form of jpg**"
      ],
      "metadata": {
        "id": "NMzTT_mTz40z"
      }
    },
    {
      "cell_type": "code",
      "source": [
        "import qrcode\n",
        "img = qrcode.make('My name is Priya Bhatia')\n",
        "img.save('nameQRcode.jpg')"
      ],
      "metadata": {
        "id": "0J8z2NTszVPH"
      },
      "execution_count": 3,
      "outputs": []
    },
    {
      "cell_type": "markdown",
      "source": [
        "**Try to change the data to the url: \"https://www.youtube.com/c/PriyaBhatia\" and generate the QR code for the same.**"
      ],
      "metadata": {
        "id": "fSyRPkKc0lgp"
      }
    },
    {
      "cell_type": "code",
      "source": [
        "import qrcode\n",
        "img = qrcode.make('https://www.youtube.com/c/PriyaBhatia')\n",
        "img.save('youTubeLink.jpg')"
      ],
      "metadata": {
        "id": "j7hWBtPYzsJI"
      },
      "execution_count": 4,
      "outputs": []
    },
    {
      "cell_type": "markdown",
      "source": [
        "**Step 3: Given an image of QRcode, decode that image and find the data inside that QRcode**"
      ],
      "metadata": {
        "id": "8FJgqN9a1e1-"
      }
    },
    {
      "cell_type": "code",
      "source": [
        "import cv2\n",
        "decode = cv2.QRCodeDetector()"
      ],
      "metadata": {
        "id": "ulHxKGx51Afm"
      },
      "execution_count": 5,
      "outputs": []
    },
    {
      "cell_type": "code",
      "source": [
        "value, points, straight_qrcode = decode.detectAndDecode(cv2.imread('/content/youTubeLink.jpg'))"
      ],
      "metadata": {
        "id": "kj5PGE0P10j4"
      },
      "execution_count": 6,
      "outputs": []
    },
    {
      "cell_type": "code",
      "source": [
        "print(value)"
      ],
      "metadata": {
        "colab": {
          "base_uri": "https://localhost:8080/"
        },
        "id": "gqS7Jf_N2fv_",
        "outputId": "a3297c82-bc81-4c39-e197-63dfedee00b5"
      },
      "execution_count": 7,
      "outputs": [
        {
          "output_type": "stream",
          "name": "stdout",
          "text": [
            "https://www.youtube.com/c/PriyaBhatia\n"
          ]
        }
      ]
    },
    {
      "cell_type": "code",
      "source": [
        "print(points)"
      ],
      "metadata": {
        "colab": {
          "base_uri": "https://localhost:8080/"
        },
        "id": "7GHQk8152iRu",
        "outputId": "9d0c0c82-eba7-4beb-a317-a0f016fbdb92"
      },
      "execution_count": 8,
      "outputs": [
        {
          "output_type": "stream",
          "name": "stdout",
          "text": [
            "[[[ 40.  40.]\n",
            "  [329.  40.]\n",
            "  [329. 329.]\n",
            "  [ 40. 329.]]]\n"
          ]
        }
      ]
    },
    {
      "cell_type": "code",
      "source": [
        "print(straight_qrcode)"
      ],
      "metadata": {
        "colab": {
          "base_uri": "https://localhost:8080/"
        },
        "id": "ZhPXsZ882qaQ",
        "outputId": "aee9c689-d3fb-4aaf-9b1a-980fb97e7081"
      },
      "execution_count": 9,
      "outputs": [
        {
          "output_type": "stream",
          "name": "stdout",
          "text": [
            "[[  0   0   0   0   0   0   0 255 255   0 255   0 255 255   0   0 255   0\n",
            "    0   0 255 255   0   0   0   0   0   0   0]\n",
            " [  0 255 255 255 255 255   0 255 255 255 255   0   0 255 255   0 255   0\n",
            "    0 255   0 255   0 255 255 255 255 255   0]\n",
            " [  0 255   0   0   0 255   0 255 255   0   0 255 255 255   0 255   0   0\n",
            "  255   0   0 255   0 255   0   0   0 255   0]\n",
            " [  0 255   0   0   0 255   0 255 255   0   0   0   0   0 255 255 255 255\n",
            "  255 255 255 255   0 255   0   0   0 255   0]\n",
            " [  0 255   0   0   0 255   0 255 255   0 255 255 255 255   0   0   0   0\n",
            "    0 255 255 255   0 255   0   0   0 255   0]\n",
            " [  0 255 255 255 255 255   0 255   0   0 255 255 255 255 255   0 255   0\n",
            "    0   0 255 255   0 255 255 255 255 255   0]\n",
            " [  0   0   0   0   0   0   0 255   0 255   0 255   0 255   0 255   0 255\n",
            "    0 255   0 255   0   0   0   0   0   0   0]\n",
            " [255 255 255 255 255 255 255 255 255   0 255 255 255   0 255   0 255   0\n",
            "    0   0 255 255 255 255 255 255 255 255 255]\n",
            " [  0 255 255   0 255   0   0 255   0   0   0   0 255 255   0 255 255 255\n",
            "  255 255 255   0 255   0 255 255 255 255 255]\n",
            " [255   0   0 255   0   0 255   0   0 255 255   0   0   0 255 255   0   0\n",
            "  255 255   0 255   0 255 255   0 255 255   0]\n",
            " [  0 255   0 255   0 255   0   0   0   0   0   0 255   0   0 255   0   0\n",
            "    0   0   0 255   0 255 255   0   0   0 255]\n",
            " [255   0 255   0   0 255 255 255   0 255 255   0   0   0 255   0 255 255\n",
            "    0 255 255 255 255   0   0 255   0   0 255]\n",
            " [255   0 255   0 255 255   0 255 255   0 255   0   0 255   0 255   0   0\n",
            "    0   0   0   0   0 255 255   0 255   0   0]\n",
            " [  0 255 255 255   0 255 255 255   0 255 255   0 255   0   0 255 255 255\n",
            "  255   0 255   0 255   0 255 255 255 255 255]\n",
            " [  0   0   0 255 255   0   0 255   0   0   0 255 255   0   0 255   0 255\n",
            "  255 255   0   0 255 255 255   0   0   0   0]\n",
            " [255 255   0   0 255   0 255   0 255 255 255 255   0 255 255   0 255   0\n",
            "    0   0   0 255   0 255 255   0 255   0 255]\n",
            " [  0   0 255   0 255   0   0 255   0 255 255   0   0   0 255   0 255 255\n",
            "  255   0   0   0 255   0 255 255 255   0 255]\n",
            " [255   0 255 255   0   0 255   0 255 255   0 255   0   0   0 255   0 255\n",
            "    0 255 255 255   0   0 255   0 255 255   0]\n",
            " [  0 255 255 255   0 255   0 255   0 255 255 255   0 255   0 255   0 255\n",
            "    0 255   0   0   0   0 255 255 255   0   0]\n",
            " [255 255   0   0 255   0 255   0 255 255   0 255 255 255   0 255   0   0\n",
            "  255   0 255 255   0 255 255 255 255   0   0]\n",
            " [  0 255   0   0   0 255   0 255   0 255   0 255   0 255 255 255   0 255\n",
            "  255 255   0   0   0   0   0 255   0 255 255]\n",
            " [255 255 255 255 255 255 255 255   0   0   0 255 255 255   0   0   0   0\n",
            "    0   0   0 255 255 255   0 255   0   0   0]\n",
            " [  0   0   0   0   0   0   0 255 255   0 255 255 255 255 255 255   0   0\n",
            "    0 255   0 255   0 255   0 255 255   0 255]\n",
            " [  0 255 255 255 255 255   0 255   0   0   0 255 255 255   0   0 255 255\n",
            "  255 255   0 255 255 255   0   0   0 255 255]\n",
            " [  0 255   0   0   0 255   0 255 255   0 255 255   0 255 255 255   0   0\n",
            "  255 255   0   0   0   0   0 255 255   0   0]\n",
            " [  0 255   0   0   0 255   0 255   0   0 255 255   0   0 255 255 255 255\n",
            "  255   0 255 255   0 255   0   0   0   0 255]\n",
            " [  0 255   0   0   0 255   0 255 255 255 255   0 255   0   0 255 255   0\n",
            "    0   0 255   0 255 255   0   0   0 255   0]\n",
            " [  0 255 255 255 255 255   0 255 255   0   0   0 255 255 255   0 255   0\n",
            "    0 255   0 255 255 255   0 255 255   0 255]\n",
            " [  0   0   0   0   0   0   0 255   0   0 255   0   0 255   0   0   0   0\n",
            "  255 255   0 255 255   0   0 255 255   0 255]]\n"
          ]
        }
      ]
    },
    {
      "cell_type": "code",
      "source": [
        "straight_qrcode.shape"
      ],
      "metadata": {
        "colab": {
          "base_uri": "https://localhost:8080/"
        },
        "id": "-5KbDJdE24C2",
        "outputId": "8d8b4257-c395-4178-bd21-db0a7fdb1c42"
      },
      "execution_count": 11,
      "outputs": [
        {
          "output_type": "execute_result",
          "data": {
            "text/plain": [
              "(29, 29)"
            ]
          },
          "metadata": {},
          "execution_count": 11
        }
      ]
    },
    {
      "cell_type": "markdown",
      "source": [
        "**Modifications in QR code Generation**"
      ],
      "metadata": {
        "id": "WwfaAERa5lGC"
      }
    },
    {
      "cell_type": "code",
      "source": [
        "qr = qrcode.QRCode(\n",
        "    version=1,\n",
        "    error_correction=qrcode.constants.ERROR_CORRECT_L,\n",
        "    box_size=15,\n",
        "    border=15,\n",
        ")\n",
        "qr.add_data('https://www.youtube.com/c/PriyaBhatia')\n",
        "qr.make(fit=True)\n",
        "\n",
        "img = qr.make_image(fill_color=\"red\", back_color=\"white\")\n",
        "img.save('modifiedQRCode.jpg')"
      ],
      "metadata": {
        "id": "QUkZgpqv4Vw3"
      },
      "execution_count": 12,
      "outputs": []
    },
    {
      "cell_type": "code",
      "source": [
        "import cv2\n",
        "decode = cv2.QRCodeDetector()\n",
        "modifiedValue, modifiedPoints, modifiedStraight_qrcode = decode.detectAndDecode(cv2.imread('/content/modifiedQRCode.jpg'))"
      ],
      "metadata": {
        "id": "c__P-d6d5-AD"
      },
      "execution_count": 13,
      "outputs": []
    },
    {
      "cell_type": "code",
      "source": [
        "print(modifiedValue)"
      ],
      "metadata": {
        "colab": {
          "base_uri": "https://localhost:8080/"
        },
        "id": "orVjBOXp6gZu",
        "outputId": "2467ff06-b567-433c-b581-4f5225ba6d8a"
      },
      "execution_count": 15,
      "outputs": [
        {
          "output_type": "stream",
          "name": "stdout",
          "text": [
            "https://www.youtube.com/c/PriyaBhatia\n"
          ]
        }
      ]
    },
    {
      "cell_type": "code",
      "source": [
        "print(modifiedPoints)"
      ],
      "metadata": {
        "colab": {
          "base_uri": "https://localhost:8080/"
        },
        "id": "R4LpFHyZ6lGN",
        "outputId": "a5f25ec0-12b0-4c00-a425-fba3cf64b8d5"
      },
      "execution_count": 16,
      "outputs": [
        {
          "output_type": "stream",
          "name": "stdout",
          "text": [
            "[[[225. 225.]\n",
            "  [659. 225.]\n",
            "  [659. 659.]\n",
            "  [225. 659.]]]\n"
          ]
        }
      ]
    },
    {
      "cell_type": "code",
      "source": [
        "print(modifiedStraight_qrcode)"
      ],
      "metadata": {
        "colab": {
          "base_uri": "https://localhost:8080/"
        },
        "id": "Y64RMHnw6uS-",
        "outputId": "4df60593-d098-4178-9dbb-6e176e3fe971"
      },
      "execution_count": 17,
      "outputs": [
        {
          "output_type": "stream",
          "name": "stdout",
          "text": [
            "[[  0   0   0   0   0   0   0 255   0 255 255 255 255   0   0   0   0   0\n",
            "    0 255 255 255   0   0   0   0   0   0   0]\n",
            " [  0 255 255 255 255 255   0 255   0 255 255   0   0   0   0 255   0 255\n",
            "  255   0 255 255   0 255 255 255 255 255   0]\n",
            " [  0 255   0   0   0 255   0 255   0   0 255 255   0 255   0   0   0   0\n",
            "    0   0   0 255   0 255   0   0   0 255   0]\n",
            " [  0 255   0   0   0 255   0 255   0   0   0 255   0 255 255 255   0 255\n",
            "  255   0 255 255   0 255   0   0   0 255   0]\n",
            " [  0 255   0   0   0 255   0 255 255   0   0 255   0 255   0   0   0   0\n",
            "    0 255 255 255   0 255   0   0   0 255   0]\n",
            " [  0 255 255 255 255 255   0 255   0   0   0 255 255 255 255 255 255   0\n",
            "  255   0 255 255   0 255 255 255 255 255   0]\n",
            " [  0   0   0   0   0   0   0 255   0 255   0 255   0 255   0 255   0 255\n",
            "    0 255   0 255   0   0   0   0   0   0   0]\n",
            " [255 255 255 255 255 255 255 255 255 255   0   0 255   0 255   0 255   0\n",
            "    0   0 255 255 255 255 255 255 255 255 255]\n",
            " [  0   0 255 255   0   0   0 255 255 255   0 255   0   0 255 255   0   0\n",
            "  255   0   0 255 255   0 255   0   0   0   0]\n",
            " [255   0   0 255   0 255 255 255 255 255 255 255 255   0   0   0   0 255\n",
            "    0 255 255   0   0   0   0   0   0   0   0]\n",
            " [255 255 255   0   0 255   0 255 255   0   0 255 255 255 255   0 255 255\n",
            "  255 255 255   0 255   0   0 255 255 255   0]\n",
            " [  0 255   0 255   0 255 255 255   0   0 255 255   0 255   0   0   0   0\n",
            "    0   0   0 255   0 255   0   0 255   0   0]\n",
            " [  0   0 255 255 255 255   0 255 255 255 255   0 255   0   0 255 255   0\n",
            "    0 255   0   0 255 255 255 255 255   0 255]\n",
            " [  0   0 255 255   0 255 255   0   0   0   0 255   0 255 255   0   0   0\n",
            "    0 255   0 255   0 255   0   0   0   0   0]\n",
            " [255 255   0 255 255 255   0 255 255   0 255   0   0   0   0   0   0 255\n",
            "    0 255   0 255 255 255   0   0   0 255   0]\n",
            " [  0   0   0 255   0   0 255   0   0 255 255   0 255   0 255   0   0   0\n",
            "    0 255   0 255 255 255 255 255 255   0   0]\n",
            " [  0   0 255   0   0 255   0 255 255   0   0 255   0   0 255   0 255 255\n",
            "  255   0   0   0 255   0 255 255 255   0 255]\n",
            " [  0   0   0 255 255 255 255 255   0 255   0 255 255   0   0   0   0 255\n",
            "  255 255 255   0   0   0   0   0 255   0   0]\n",
            " [255 255   0   0   0   0   0 255 255 255   0 255 255 255 255   0   0   0\n",
            "  255 255 255 255   0 255   0 255   0 255   0]\n",
            " [255 255   0 255 255   0 255   0 255   0 255 255   0 255   0 255   0   0\n",
            "  255   0 255 255   0 255 255 255 255   0   0]\n",
            " [  0   0   0 255   0   0   0 255 255   0   0   0 255   0   0 255 255   0\n",
            "  255   0   0   0   0   0   0   0 255 255   0]\n",
            " [255 255 255 255 255 255 255 255   0   0   0 255   0 255 255 255   0 255\n",
            "  255   0   0 255 255 255   0 255 255 255   0]\n",
            " [  0   0   0   0   0   0   0 255 255 255 255   0   0   0   0   0 255 255\n",
            "  255   0   0 255   0 255   0   0   0 255   0]\n",
            " [  0 255 255 255 255 255   0 255   0 255 255   0 255   0 255   0   0   0\n",
            "  255   0   0 255 255 255   0 255 255 255   0]\n",
            " [  0 255   0   0   0 255   0 255   0 255   0 255   0   0 255 255 255   0\n",
            "  255   0   0   0   0   0   0   0 255   0 255]\n",
            " [  0 255   0   0   0 255   0 255 255 255 255 255 255   0   0   0   0   0\n",
            "    0 255   0   0 255   0 255 255 255 255   0]\n",
            " [  0 255   0   0   0 255   0 255 255   0   0 255 255 255 255   0 255   0\n",
            "  255   0 255 255 255 255 255   0   0   0   0]\n",
            " [  0 255 255 255 255 255   0 255   0 255   0 255   0 255   0   0   0   0\n",
            "    0   0   0 255   0 255   0   0 255   0   0]\n",
            " [  0   0   0   0   0   0   0 255   0   0   0   0 255   0   0   0   0   0\n",
            "  255 255   0 255 255   0   0 255 255   0 255]]\n"
          ]
        }
      ]
    },
    {
      "cell_type": "code",
      "source": [
        "modifiedStraight_qrcode.shape"
      ],
      "metadata": {
        "colab": {
          "base_uri": "https://localhost:8080/"
        },
        "id": "rhXdnikA69ot",
        "outputId": "e3ad5ee8-ddff-4ba7-b7a0-c6829ece4113"
      },
      "execution_count": 18,
      "outputs": [
        {
          "output_type": "execute_result",
          "data": {
            "text/plain": [
              "(29, 29)"
            ]
          },
          "metadata": {},
          "execution_count": 18
        }
      ]
    },
    {
      "cell_type": "code",
      "source": [],
      "metadata": {
        "id": "j0Z7uH4t7MS-"
      },
      "execution_count": null,
      "outputs": []
    }
  ]
}